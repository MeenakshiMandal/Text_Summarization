{
  "nbformat": 4,
  "nbformat_minor": 0,
  "metadata": {
    "colab": {
      "provenance": []
    },
    "kernelspec": {
      "name": "python3",
      "display_name": "Python 3"
    },
    "language_info": {
      "name": "python"
    }
  },
  "cells": [
    {
      "cell_type": "code",
      "source": [
        "!pip install torch==1.4.0\n",
        "!pip install transformers==2.8.0"
      ],
      "metadata": {
        "id": "3zVDBoAQFNPc"
      },
      "execution_count": null,
      "outputs": []
    },
    {
      "cell_type": "code",
      "source": [
        "import torch\n",
        "from transformers import T5Tokenizer, T5ForConditionalGeneration, T5Config"
      ],
      "metadata": {
        "id": "w39vfWnOFNX7"
      },
      "execution_count": 2,
      "outputs": []
    },
    {
      "cell_type": "code",
      "source": [
        "model = T5ForConditionalGeneration.from_pretrained('t5-large')\n",
        "tokenizer = T5Tokenizer.from_pretrained('t5-large')\n",
        "device = torch.device('cpu')"
      ],
      "metadata": {
        "id": "XhEatmKoFNg4"
      },
      "execution_count": null,
      "outputs": []
    },
    {
      "cell_type": "code",
      "source": [
        "data= \"\"\"\n",
        "Romantic man is an individual who is a dreamer. He has a lot of feelings, idealism, and imagination. A romantic man is filled with hope, faith, and feelings. A romantic man goes through with his faith. He trusts in divine foresight. When it comes to scientific man, the quality outcomes are logic, reality, concentrated approach, being driven by a purpose, having a strategy and plan, and a clear-cut procedure. A scientific man tackles challenges of life with a clinical mindset. A scientific man lives his life objectively. He is reliant on careful foresight and planning.\n",
        "\n",
        "History always remembers winners not losers and the right strategy always wins. Strategy is the fundamental characteristic of a scientific man rather than a romantic man. This is the reason why history is a series of victories won by the scientific man. However, there are several individuals within one person.\n",
        "\n",
        "Different circumstances of life reveal the different characteristics of the same person or in other words we can say that the same individual has several faces. It is time or circumstances which reveal these secrets in front of society. Scientific man and romantic man are the two faces of the same individual which reflect in society as per the requirement of different circumstances. When an individual is doing something with a clinical approach or with a scientific mindset the probability of being successful will be very high as compared to a romantic approach. When it comes to the purpose of life rationality, strategy and planning are the most fundamental and vital requirements for success.\n",
        "\n",
        "A romantic guy is a man with happiness, which is also extremely important to live a pleasant life. Aristotle was one of the greatest philosophers and scientists the world has ever seen. While Aristotle understood ultimate truth as physical objects that could only be known via the five senses, Plato thought that reality lived in ideas and could only be known through contemplation and inspiration.\n",
        "\n",
        "Raja Ram Mohan Roy emphasized rationalism and a contemporary scientific approach and was heavily inspired by western modern philosophy. The period of enlightenment and liberal reformist modernization in India was ushered in by Raja Ram Mohan Roy, the relentless social reformer known as the \"Father of Modern India's Renaissance.\" According to him, sati violates all social and human emotions and is a sign that a race's moral standards have fallen. He considered that rather than working to improve societal conditions, religious orthodoxies were then causing harm to society, harming social interactions, and causing individuals problems and confusion.\n",
        "\n",
        "During the post-Vedic period, the caste system was romanticized too much. It is too widespread in today's society as well. In the post Vedic period, the caste system was based on birth. This is a highly irrational system. The persons who raised the voice against the caste system are considered to have done an act based on human rationality and history remembers them. Such as B.R Ambedkar, Jyotiba Phule and Kabir etc. They believed in the social equality of all human beings and thus were a strong opposer of the caste system.\n",
        "\n",
        "Krishna’s philosophy of Karma in Bhagwat Geeta is a highly rational kind of approach in which Krishna says karma is the act which is devoid of worldly attachment. He advised that struggle is the fundamental element of life, and a Warrier must fight against all hurdles that come in life. In the purpose of life, the biggest hurdle is the human emotion. Because decision making is the most important aspect of life and if decision making is done under the influence of any kind of emotions, then the probability of making a wrong decision remains very high. Such kind of great knowledge enshrined in Bhagwat Geeta by Krishna. This is the reason why Krishna is the shining sun of Indian religious history.\n",
        "\n",
        "One of India's most well-known social reformers and a highly regarded disciple of Mahatma Gandhi was Vinoba Bhave. He was a staunch supporter of egalitarian society. To establish equality in society and to eradicate inequality and poverty he started the Bhoodan Yojana i.e., Land-Gift Movement. A rational mind or scientific man can only think about bringing equality in society irrespective of their caste and a romantic man feels proud about his casteist superiority over others or he may suffer from casteist inferiority if belong to a depressed class.\n",
        "\n",
        "Religion and associated sentiments basically fall in the category of belief and faith which is basically a romanticization of human feeling. But in census 2011 it has been reflected that the number of persons who identified themselves as having \"no religion\" has increased by more than 300% since the previous census, which was conducted in 2001. People are following religion and its customs blindly but census 2011 reveals that people are moving away from any kind of concept which forces them to follow something blindly. Thus, rationality is growing in the conscience of society.\n",
        "\n",
        "Rationalism and scientific temperament have been part of the Indian tradition since at least 6th century BC. Ajita Kesakambalin, contemporary of the Buddha, was the earliest known teacher of complete materialism who stripped any spiritual pursuit in life.\n",
        "\n",
        "The Constitution of India is a rational document which imposes on the government to govern the nation with rational approach. The Indian constitution is enshrined with Article 51A (H) which encourages citizens to \"develop the scientific temper, humanism, and the spirit of inquiry and change.\" Hence the Constitution is also promoting rationalism and scientism. Scientism is the belief that science and the scientific method are the best means of determining the truth about the universe and reality.\n",
        "\n",
        "Romanticism is a literary and artistic movement that began in the late 18th century and emphasized inspiration, subjectivity, and the primacy of the person. Romanticism was both a response to rationality and a product of societal developments. Rationality gained popularity, and more individuals began to challenge the belief that human nature was based on rationalism. Rationalism is a certain perspective on how the world works, what we can learn from it, and what people are really like. The underlying principle is that only your intellect can be trusted; your senses cannot. Thus, Romanticism is essentially a thing of the heart and has to do with thinking out of emotion, whereas rationalism is what is actually happening intellectually or the actuality of anything.\n",
        "\"\"\""
      ],
      "metadata": {
        "id": "vi3O2MBKFNxL"
      },
      "execution_count": 4,
      "outputs": []
    },
    {
      "cell_type": "code",
      "source": [
        "preprocessed_data = data.strip().replace('\\n','')\n",
        "t5_input_data = 'summarize: ' + preprocessed_data"
      ],
      "metadata": {
        "id": "lBPofO-1U2P4"
      },
      "execution_count": 5,
      "outputs": []
    },
    {
      "cell_type": "code",
      "source": [
        "len(t5_input_data.split())"
      ],
      "metadata": {
        "colab": {
          "base_uri": "https://localhost:8080/"
        },
        "id": "m1yU7shiVb7J",
        "outputId": "30afa5f9-c792-4440-db5e-148b420f6051"
      },
      "execution_count": 6,
      "outputs": [
        {
          "output_type": "execute_result",
          "data": {
            "text/plain": [
              "1044"
            ]
          },
          "metadata": {},
          "execution_count": 6
        }
      ]
    },
    {
      "cell_type": "code",
      "source": [
        "tokenized_data = tokenizer.encode(t5_input_data, return_tensors='pt', max_length=512).to(device)"
      ],
      "metadata": {
        "id": "jdWeSYOwVn2A"
      },
      "execution_count": 7,
      "outputs": []
    },
    {
      "cell_type": "code",
      "source": [
        "summary_ids = model.generate(tokenized_data, min_length=30, max_length=120)\n",
        "summary = tokenizer.decode(summary_ids[0], skip_special_tokens=True)"
      ],
      "metadata": {
        "id": "kjBxhOJbWCHy"
      },
      "execution_count": 8,
      "outputs": []
    },
    {
      "cell_type": "code",
      "source": [
        "summary"
      ],
      "metadata": {
        "colab": {
          "base_uri": "https://localhost:8080/",
          "height": 54
        },
        "id": "gg2AGDqtW_B9",
        "outputId": "ebff3094-64f7-445e-afbd-d6546caba089"
      },
      "execution_count": 9,
      "outputs": [
        {
          "output_type": "execute_result",
          "data": {
            "text/plain": [
              "'scientific man tackles challenges of life with a clinical mindset. romantic man is a man with happiness, which is also extremely important to live a pleasant life. romantic man is a man who has a lot of feelings, idealism, and imagination. when an individual is doing something with a clinical approach the probability of being successful will be very high.'"
            ],
            "application/vnd.google.colaboratory.intrinsic+json": {
              "type": "string"
            }
          },
          "metadata": {},
          "execution_count": 9
        }
      ]
    },
    {
      "cell_type": "code",
      "source": [
        "len(summary)"
      ],
      "metadata": {
        "colab": {
          "base_uri": "https://localhost:8080/"
        },
        "id": "X7lajPh4XCZb",
        "outputId": "343a1d89-1375-4de9-836f-2281f04659b5"
      },
      "execution_count": 10,
      "outputs": [
        {
          "output_type": "execute_result",
          "data": {
            "text/plain": [
              "357"
            ]
          },
          "metadata": {},
          "execution_count": 10
        }
      ]
    }
  ]
}