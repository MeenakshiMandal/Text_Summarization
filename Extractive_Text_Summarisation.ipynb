{
  "nbformat": 4,
  "nbformat_minor": 0,
  "metadata": {
    "colab": {
      "provenance": []
    },
    "kernelspec": {
      "name": "python3",
      "display_name": "Python 3"
    },
    "language_info": {
      "name": "python"
    }
  },
  "cells": [
    {
      "cell_type": "code",
      "execution_count": null,
      "metadata": {
        "id": "_pinUZWs3lkI"
      },
      "outputs": [],
      "source": [
        "!pip install nltk\n",
        "import nltk\n",
        "nltk.download('punkt')\n",
        "nltk.download('stopwords')"
      ]
    },
    {
      "cell_type": "code",
      "source": [
        "import re\n",
        "import heapq"
      ],
      "metadata": {
        "id": "M2kUNYMY4Pzp"
      },
      "execution_count": 2,
      "outputs": []
    },
    {
      "cell_type": "code",
      "source": [
        "text=\"\"\"Romantic man is an individual who is a dreamer. He has a lot of feelings, idealism, and imagination. A romantic man is filled with hope, faith, and feelings. A romantic man goes through with his faith. He trusts in divine foresight. When it comes to scientific man, the quality outcomes are logic, reality, concentrated approach, being driven by a purpose, having a strategy and plan, and a clear-cut procedure. A scientific man tackles challenges of life with a clinical mindset. A scientific man lives his life objectively. He is reliant on careful foresight and planning.\n",
        "\n",
        "History always remembers winners not losers and the right strategy always wins. Strategy is the fundamental characteristic of a scientific man rather than a romantic man. This is the reason why history is a series of victories won by the scientific man. However, there are several individuals within one person.\n",
        "\n",
        "Different circumstances of life reveal the different characteristics of the same person or in other words we can say that the same individual has several faces. It is time or circumstances which reveal these secrets in front of society. Scientific man and romantic man are the two faces of the same individual which reflect in society as per the requirement of different circumstances. When an individual is doing something with a clinical approach or with a scientific mindset the probability of being successful will be very high as compared to a romantic approach. When it comes to the purpose of life rationality, strategy and planning are the most fundamental and vital requirements for success.\n",
        "\n",
        "A romantic guy is a man with happiness, which is also extremely important to live a pleasant life. Aristotle was one of the greatest philosophers and scientists the world has ever seen. While Aristotle understood ultimate truth as physical objects that could only be known via the five senses, Plato thought that reality lived in ideas and could only be known through contemplation and inspiration.\n",
        "\n",
        "Raja Ram Mohan Roy emphasized rationalism and a contemporary scientific approach and was heavily inspired by western modern philosophy. The period of enlightenment and liberal reformist modernization in India was ushered in by Raja Ram Mohan Roy, the relentless social reformer known as the \"Father of Modern India's Renaissance.\" According to him, sati violates all social and human emotions and is a sign that a race's moral standards have fallen. He considered that rather than working to improve societal conditions, religious orthodoxies were then causing harm to society, harming social interactions, and causing individuals problems and confusion.\n",
        "\n",
        "During the post-Vedic period, the caste system was romanticized too much. It is too widespread in today's society as well. In the post Vedic period, the caste system was based on birth. This is a highly irrational system. The persons who raised the voice against the caste system are considered to have done an act based on human rationality and history remembers them. Such as B.R Ambedkar, Jyotiba Phule and Kabir etc. They believed in the social equality of all human beings and thus were a strong opposer of the caste system.\n",
        "\n",
        "Krishna’s philosophy of Karma in Bhagwat Geeta is a highly rational kind of approach in which Krishna says karma is the act which is devoid of worldly attachment. He advised that struggle is the fundamental element of life, and a Warrier must fight against all hurdles that come in life. In the purpose of life, the biggest hurdle is the human emotion. Because decision making is the most important aspect of life and if decision making is done under the influence of any kind of emotions, then the probability of making a wrong decision remains very high. Such kind of great knowledge enshrined in Bhagwat Geeta by Krishna. This is the reason why Krishna is the shining sun of Indian religious history.\n",
        "\n",
        "One of India's most well-known social reformers and a highly regarded disciple of Mahatma Gandhi was Vinoba Bhave. He was a staunch supporter of egalitarian society. To establish equality in society and to eradicate inequality and poverty he started the Bhoodan Yojana i.e., Land-Gift Movement. A rational mind or scientific man can only think about bringing equality in society irrespective of their caste and a romantic man feels proud about his casteist superiority over others or he may suffer from casteist inferiority if belong to a depressed class.\n",
        "\n",
        "Religion and associated sentiments basically fall in the category of belief and faith which is basically a romanticization of human feeling. But in census 2011 it has been reflected that the number of persons who identified themselves as having \"no religion\" has increased by more than 300% since the previous census, which was conducted in 2001. People are following religion and its customs blindly but census 2011 reveals that people are moving away from any kind of concept which forces them to follow something blindly. Thus, rationality is growing in the conscience of society.\n",
        "\n",
        "Rationalism and scientific temperament have been part of the Indian tradition since at least 6th century BC. Ajita Kesakambalin, contemporary of the Buddha, was the earliest known teacher of complete materialism who stripped any spiritual pursuit in life.\n",
        "\n",
        "The Constitution of India is a rational document which imposes on the government to govern the nation with rational approach. The Indian constitution is enshrined with Article 51A (H) which encourages citizens to \"develop the scientific temper, humanism, and the spirit of inquiry and change.\" Hence the Constitution is also promoting rationalism and scientism. Scientism is the belief that science and the scientific method are the best means of determining the truth about the universe and reality.\n",
        "\n",
        "Romanticism is a literary and artistic movement that began in the late 18th century and emphasized inspiration, subjectivity, and the primacy of the person. Romanticism was both a response to rationality and a product of societal developments. Rationality gained popularity, and more individuals began to challenge the belief that human nature was based on rationalism. Rationalism is a certain perspective on how the world works, what we can learn from it, and what people are really like. The underlying principle is that only your intellect can be trusted; your senses cannot. Thus, Romanticism is essentially a thing of the heart and has to do with thinking out of emotion, whereas rationalism is what is actually happening intellectually or the actuality of anything.\n",
        "\"\"\""
      ],
      "metadata": {
        "id": "DOfWt9fQXoyw"
      },
      "execution_count": 3,
      "outputs": []
    },
    {
      "cell_type": "code",
      "source": [
        "text=text.lower()\n",
        "clean_text = re.sub('[^a-zA-Z]', ' ', text)\n",
        "clean_text = re.sub('\\s+', ' ',clean_text)"
      ],
      "metadata": {
        "id": "EPzNJH0zX7AB"
      },
      "execution_count": 4,
      "outputs": []
    },
    {
      "cell_type": "code",
      "source": [
        "sentence_list = nltk.sent_tokenize(text)"
      ],
      "metadata": {
        "id": "nB7Ow9PrYN_l"
      },
      "execution_count": 5,
      "outputs": []
    },
    {
      "cell_type": "code",
      "source": [
        "stopwords = nltk.corpus.stopwords.words('english')\n",
        "\n",
        "word_frequencies = {}\n",
        "for word in nltk.word_tokenize(clean_text):\n",
        "    if word not in stopwords:\n",
        "        if word not in word_frequencies:\n",
        "            word_frequencies[word] = 1\n",
        "        else:\n",
        "            word_frequencies[word] += 1"
      ],
      "metadata": {
        "id": "b2PM118pYqTV"
      },
      "execution_count": 6,
      "outputs": []
    },
    {
      "cell_type": "code",
      "source": [
        "maximum_frequency = max(word_frequencies.values())\n",
        "\n",
        "for word in word_frequencies:\n",
        "    word_frequencies[word] = word_frequencies[word] / maximum_frequency"
      ],
      "metadata": {
        "id": "bIjC1PA_ZPMp"
      },
      "execution_count": 7,
      "outputs": []
    },
    {
      "cell_type": "code",
      "source": [
        "sentence_scores = {}\n",
        "\n",
        "for sentence in sentence_list:\n",
        "    for word in nltk.word_tokenize(sentence):\n",
        "        if word in word_frequencies and len(sentence.split(' ')) < 30:\n",
        "            if sentence not in sentence_scores:\n",
        "                sentence_scores[sentence] = word_frequencies[word]\n",
        "            else:\n",
        "                sentence_scores[sentence] += word_frequencies[word]"
      ],
      "metadata": {
        "id": "BcL-yf_MZSFc"
      },
      "execution_count": 8,
      "outputs": []
    },
    {
      "cell_type": "code",
      "source": [
        "summary = heapq.nlargest(1, sentence_scores, key=sentence_scores.get)\n",
        "print(\" \".join(summary))"
      ],
      "metadata": {
        "colab": {
          "base_uri": "https://localhost:8080/"
        },
        "id": "JDf0DugaZn1B",
        "outputId": "54b18439-4fe2-4a85-81f6-20b80cc36e6f"
      },
      "execution_count": 9,
      "outputs": [
        {
          "output_type": "stream",
          "name": "stdout",
          "text": [
            "scientific man and romantic man are the two faces of the same individual which reflect in society as per the requirement of different circumstances.\n"
          ]
        }
      ]
    },
    {
      "cell_type": "code",
      "source": [
        "summary = heapq.nlargest(5, sentence_scores, key=sentence_scores.get)\n",
        "print(\" \".join(summary))"
      ],
      "metadata": {
        "colab": {
          "base_uri": "https://localhost:8080/"
        },
        "id": "pRx6rgXaZ68M",
        "outputId": "f9466b0b-c42c-4bf3-bab0-c041818c11fc"
      },
      "execution_count": 11,
      "outputs": [
        {
          "output_type": "stream",
          "name": "stdout",
          "text": [
            "scientific man and romantic man are the two faces of the same individual which reflect in society as per the requirement of different circumstances. strategy is the fundamental characteristic of a scientific man rather than a romantic man. when it comes to scientific man, the quality outcomes are logic, reality, concentrated approach, being driven by a purpose, having a strategy and plan, and a clear-cut procedure. raja ram mohan roy emphasized rationalism and a contemporary scientific approach and was heavily inspired by western modern philosophy. a scientific man tackles challenges of life with a clinical mindset.\n"
          ]
        }
      ]
    }
  ]
}